{
 "cells": [
  {
   "cell_type": "code",
   "execution_count": 1,
   "id": "d3fd5e71",
   "metadata": {
    "execution": {
     "iopub.execute_input": "2022-12-24T16:53:49.155280Z",
     "iopub.status.busy": "2022-12-24T16:53:49.154158Z",
     "iopub.status.idle": "2022-12-24T16:53:50.450417Z",
     "shell.execute_reply": "2022-12-24T16:53:50.449273Z"
    },
    "id": "okp6W5Prig1F",
    "papermill": {
     "duration": 1.307528,
     "end_time": "2022-12-24T16:53:50.453466",
     "exception": false,
     "start_time": "2022-12-24T16:53:49.145938",
     "status": "completed"
    },
    "tags": []
   },
   "outputs": [],
   "source": [
    "import pandas as pd\n",
    "from sklearn.model_selection import train_test_split, cross_val_score, StratifiedKFold\n",
    "from sklearn.tree import DecisionTreeClassifier\n",
    "from sklearn.svm import SVC\n",
    "from sklearn.naive_bayes import GaussianNB\n",
    "from sklearn.neighbors import KNeighborsClassifier\n",
    "from sklearn.ensemble import RandomForestClassifier\n",
    "from sklearn.experimental import enable_halving_search_cv\n",
    "from sklearn.model_selection import HalvingRandomSearchCV\n",
    "from statistics import mean\n",
    "import pickle"
   ]
  },
  {
   "cell_type": "code",
   "execution_count": 2,
   "id": "77a5b819",
   "metadata": {
    "execution": {
     "iopub.execute_input": "2022-12-24T16:53:50.468028Z",
     "iopub.status.busy": "2022-12-24T16:53:50.466794Z",
     "iopub.status.idle": "2022-12-24T16:53:50.508350Z",
     "shell.execute_reply": "2022-12-24T16:53:50.507365Z"
    },
    "id": "HDmHEC5MilL8",
    "papermill": {
     "duration": 0.050817,
     "end_time": "2022-12-24T16:53:50.511121",
     "exception": false,
     "start_time": "2022-12-24T16:53:50.460304",
     "status": "completed"
    },
    "tags": []
   },
   "outputs": [],
   "source": [
    "data = pd.read_csv('train.csv') # Read the data\n",
    "\n",
    "# Separating independent variables and target variable\n",
    "features = data.drop(['price_range'],axis = 1)\n",
    "target = data.price_range\n",
    "\n",
    "# Splitting the data using stratified k fold\n",
    "SKfolds = StratifiedKFold(n_splits=5)"
   ]
  },
  {
   "cell_type": "markdown",
   "id": "a748798c",
   "metadata": {
    "id": "GuQxmXMjjtz5",
    "papermill": {
     "duration": 0.004271,
     "end_time": "2022-12-24T16:53:50.520037",
     "exception": false,
     "start_time": "2022-12-24T16:53:50.515766",
     "status": "completed"
    },
    "tags": []
   },
   "source": [
    "## Fields with its description\n",
    "\n",
    "|Columns|Description|\n",
    "|-------|-----------|\n",
    "|battery_power|Total energy a battery can store in one time measured in mAh|\n",
    "|blue|Has bluetooth or not|\n",
    "|clock_speed|speed at which microprocessor executes instructions|\n",
    "|dual_sim|has dual sim support or not|\n",
    "|fc|front camera megapixels|\n",
    "|four_g|has 4g or not|\n",
    "|int_memory|Internal memory in gigabytes|\n",
    "|m_dep|Mobile depth in cm|\n",
    "|mobile_wt|Weight of mobile phone|\n",
    "|n_cores|number of cores of processor|\n",
    "|pc|primary camera mega pixels|\n",
    "|px_height|Pixel resolution height|\n",
    "|touch_screen|Pixel resolution width|\n",
    "|wifi|has wifi or not|\n",
    "|ram|ram in megabytes|\n",
    "|sc_h|screen height in cm|\n",
    "|sc_w|screen width in cm|\n",
    "|talk_time|longest time that a single battery charge will last when you are|\n",
    "|three_g|has 3g or not|\n",
    "|touch_screen|is touch screen or not|\n",
    "|price_range|range of price (target feature)|"
   ]
  },
  {
   "cell_type": "code",
   "execution_count": 3,
   "id": "a945b0ab",
   "metadata": {
    "execution": {
     "iopub.execute_input": "2022-12-24T16:53:50.531146Z",
     "iopub.status.busy": "2022-12-24T16:53:50.530362Z",
     "iopub.status.idle": "2022-12-24T16:53:50.612231Z",
     "shell.execute_reply": "2022-12-24T16:53:50.611161Z"
    },
    "id": "2TpbP9ahi505",
    "outputId": "2574d0f7-007a-48da-ff84-61b109a9ab0e",
    "papermill": {
     "duration": 0.090272,
     "end_time": "2022-12-24T16:53:50.614766",
     "exception": false,
     "start_time": "2022-12-24T16:53:50.524494",
     "status": "completed"
    },
    "tags": []
   },
   "outputs": [
    {
     "data": {
      "text/html": [
       "<div>\n",
       "<style scoped>\n",
       "    .dataframe tbody tr th:only-of-type {\n",
       "        vertical-align: middle;\n",
       "    }\n",
       "\n",
       "    .dataframe tbody tr th {\n",
       "        vertical-align: top;\n",
       "    }\n",
       "\n",
       "    .dataframe thead th {\n",
       "        text-align: right;\n",
       "    }\n",
       "</style>\n",
       "<table border=\"1\" class=\"dataframe\">\n",
       "  <thead>\n",
       "    <tr style=\"text-align: right;\">\n",
       "      <th></th>\n",
       "      <th>battery_power</th>\n",
       "      <th>blue</th>\n",
       "      <th>clock_speed</th>\n",
       "      <th>dual_sim</th>\n",
       "      <th>fc</th>\n",
       "      <th>four_g</th>\n",
       "      <th>int_memory</th>\n",
       "      <th>m_dep</th>\n",
       "      <th>mobile_wt</th>\n",
       "      <th>n_cores</th>\n",
       "      <th>...</th>\n",
       "      <th>px_height</th>\n",
       "      <th>px_width</th>\n",
       "      <th>ram</th>\n",
       "      <th>sc_h</th>\n",
       "      <th>sc_w</th>\n",
       "      <th>talk_time</th>\n",
       "      <th>three_g</th>\n",
       "      <th>touch_screen</th>\n",
       "      <th>wifi</th>\n",
       "      <th>price_range</th>\n",
       "    </tr>\n",
       "  </thead>\n",
       "  <tbody>\n",
       "    <tr>\n",
       "      <th>count</th>\n",
       "      <td>2000.000000</td>\n",
       "      <td>2000.0000</td>\n",
       "      <td>2000.000000</td>\n",
       "      <td>2000.000000</td>\n",
       "      <td>2000.000000</td>\n",
       "      <td>2000.000000</td>\n",
       "      <td>2000.000000</td>\n",
       "      <td>2000.000000</td>\n",
       "      <td>2000.000000</td>\n",
       "      <td>2000.000000</td>\n",
       "      <td>...</td>\n",
       "      <td>2000.000000</td>\n",
       "      <td>2000.000000</td>\n",
       "      <td>2000.000000</td>\n",
       "      <td>2000.000000</td>\n",
       "      <td>2000.000000</td>\n",
       "      <td>2000.000000</td>\n",
       "      <td>2000.000000</td>\n",
       "      <td>2000.000000</td>\n",
       "      <td>2000.000000</td>\n",
       "      <td>2000.000000</td>\n",
       "    </tr>\n",
       "    <tr>\n",
       "      <th>mean</th>\n",
       "      <td>1238.518500</td>\n",
       "      <td>0.4950</td>\n",
       "      <td>1.522250</td>\n",
       "      <td>0.509500</td>\n",
       "      <td>4.309500</td>\n",
       "      <td>0.521500</td>\n",
       "      <td>32.046500</td>\n",
       "      <td>0.501750</td>\n",
       "      <td>140.249000</td>\n",
       "      <td>4.520500</td>\n",
       "      <td>...</td>\n",
       "      <td>645.108000</td>\n",
       "      <td>1251.515500</td>\n",
       "      <td>2124.213000</td>\n",
       "      <td>12.306500</td>\n",
       "      <td>5.767000</td>\n",
       "      <td>11.011000</td>\n",
       "      <td>0.761500</td>\n",
       "      <td>0.503000</td>\n",
       "      <td>0.507000</td>\n",
       "      <td>1.500000</td>\n",
       "    </tr>\n",
       "    <tr>\n",
       "      <th>std</th>\n",
       "      <td>439.418206</td>\n",
       "      <td>0.5001</td>\n",
       "      <td>0.816004</td>\n",
       "      <td>0.500035</td>\n",
       "      <td>4.341444</td>\n",
       "      <td>0.499662</td>\n",
       "      <td>18.145715</td>\n",
       "      <td>0.288416</td>\n",
       "      <td>35.399655</td>\n",
       "      <td>2.287837</td>\n",
       "      <td>...</td>\n",
       "      <td>443.780811</td>\n",
       "      <td>432.199447</td>\n",
       "      <td>1084.732044</td>\n",
       "      <td>4.213245</td>\n",
       "      <td>4.356398</td>\n",
       "      <td>5.463955</td>\n",
       "      <td>0.426273</td>\n",
       "      <td>0.500116</td>\n",
       "      <td>0.500076</td>\n",
       "      <td>1.118314</td>\n",
       "    </tr>\n",
       "    <tr>\n",
       "      <th>min</th>\n",
       "      <td>501.000000</td>\n",
       "      <td>0.0000</td>\n",
       "      <td>0.500000</td>\n",
       "      <td>0.000000</td>\n",
       "      <td>0.000000</td>\n",
       "      <td>0.000000</td>\n",
       "      <td>2.000000</td>\n",
       "      <td>0.100000</td>\n",
       "      <td>80.000000</td>\n",
       "      <td>1.000000</td>\n",
       "      <td>...</td>\n",
       "      <td>0.000000</td>\n",
       "      <td>500.000000</td>\n",
       "      <td>256.000000</td>\n",
       "      <td>5.000000</td>\n",
       "      <td>0.000000</td>\n",
       "      <td>2.000000</td>\n",
       "      <td>0.000000</td>\n",
       "      <td>0.000000</td>\n",
       "      <td>0.000000</td>\n",
       "      <td>0.000000</td>\n",
       "    </tr>\n",
       "    <tr>\n",
       "      <th>25%</th>\n",
       "      <td>851.750000</td>\n",
       "      <td>0.0000</td>\n",
       "      <td>0.700000</td>\n",
       "      <td>0.000000</td>\n",
       "      <td>1.000000</td>\n",
       "      <td>0.000000</td>\n",
       "      <td>16.000000</td>\n",
       "      <td>0.200000</td>\n",
       "      <td>109.000000</td>\n",
       "      <td>3.000000</td>\n",
       "      <td>...</td>\n",
       "      <td>282.750000</td>\n",
       "      <td>874.750000</td>\n",
       "      <td>1207.500000</td>\n",
       "      <td>9.000000</td>\n",
       "      <td>2.000000</td>\n",
       "      <td>6.000000</td>\n",
       "      <td>1.000000</td>\n",
       "      <td>0.000000</td>\n",
       "      <td>0.000000</td>\n",
       "      <td>0.750000</td>\n",
       "    </tr>\n",
       "    <tr>\n",
       "      <th>50%</th>\n",
       "      <td>1226.000000</td>\n",
       "      <td>0.0000</td>\n",
       "      <td>1.500000</td>\n",
       "      <td>1.000000</td>\n",
       "      <td>3.000000</td>\n",
       "      <td>1.000000</td>\n",
       "      <td>32.000000</td>\n",
       "      <td>0.500000</td>\n",
       "      <td>141.000000</td>\n",
       "      <td>4.000000</td>\n",
       "      <td>...</td>\n",
       "      <td>564.000000</td>\n",
       "      <td>1247.000000</td>\n",
       "      <td>2146.500000</td>\n",
       "      <td>12.000000</td>\n",
       "      <td>5.000000</td>\n",
       "      <td>11.000000</td>\n",
       "      <td>1.000000</td>\n",
       "      <td>1.000000</td>\n",
       "      <td>1.000000</td>\n",
       "      <td>1.500000</td>\n",
       "    </tr>\n",
       "    <tr>\n",
       "      <th>75%</th>\n",
       "      <td>1615.250000</td>\n",
       "      <td>1.0000</td>\n",
       "      <td>2.200000</td>\n",
       "      <td>1.000000</td>\n",
       "      <td>7.000000</td>\n",
       "      <td>1.000000</td>\n",
       "      <td>48.000000</td>\n",
       "      <td>0.800000</td>\n",
       "      <td>170.000000</td>\n",
       "      <td>7.000000</td>\n",
       "      <td>...</td>\n",
       "      <td>947.250000</td>\n",
       "      <td>1633.000000</td>\n",
       "      <td>3064.500000</td>\n",
       "      <td>16.000000</td>\n",
       "      <td>9.000000</td>\n",
       "      <td>16.000000</td>\n",
       "      <td>1.000000</td>\n",
       "      <td>1.000000</td>\n",
       "      <td>1.000000</td>\n",
       "      <td>2.250000</td>\n",
       "    </tr>\n",
       "    <tr>\n",
       "      <th>max</th>\n",
       "      <td>1998.000000</td>\n",
       "      <td>1.0000</td>\n",
       "      <td>3.000000</td>\n",
       "      <td>1.000000</td>\n",
       "      <td>19.000000</td>\n",
       "      <td>1.000000</td>\n",
       "      <td>64.000000</td>\n",
       "      <td>1.000000</td>\n",
       "      <td>200.000000</td>\n",
       "      <td>8.000000</td>\n",
       "      <td>...</td>\n",
       "      <td>1960.000000</td>\n",
       "      <td>1998.000000</td>\n",
       "      <td>3998.000000</td>\n",
       "      <td>19.000000</td>\n",
       "      <td>18.000000</td>\n",
       "      <td>20.000000</td>\n",
       "      <td>1.000000</td>\n",
       "      <td>1.000000</td>\n",
       "      <td>1.000000</td>\n",
       "      <td>3.000000</td>\n",
       "    </tr>\n",
       "  </tbody>\n",
       "</table>\n",
       "<p>8 rows × 21 columns</p>\n",
       "</div>"
      ],
      "text/plain": [
       "       battery_power       blue  clock_speed     dual_sim           fc  \\\n",
       "count    2000.000000  2000.0000  2000.000000  2000.000000  2000.000000   \n",
       "mean     1238.518500     0.4950     1.522250     0.509500     4.309500   \n",
       "std       439.418206     0.5001     0.816004     0.500035     4.341444   \n",
       "min       501.000000     0.0000     0.500000     0.000000     0.000000   \n",
       "25%       851.750000     0.0000     0.700000     0.000000     1.000000   \n",
       "50%      1226.000000     0.0000     1.500000     1.000000     3.000000   \n",
       "75%      1615.250000     1.0000     2.200000     1.000000     7.000000   \n",
       "max      1998.000000     1.0000     3.000000     1.000000    19.000000   \n",
       "\n",
       "            four_g   int_memory        m_dep    mobile_wt      n_cores  ...  \\\n",
       "count  2000.000000  2000.000000  2000.000000  2000.000000  2000.000000  ...   \n",
       "mean      0.521500    32.046500     0.501750   140.249000     4.520500  ...   \n",
       "std       0.499662    18.145715     0.288416    35.399655     2.287837  ...   \n",
       "min       0.000000     2.000000     0.100000    80.000000     1.000000  ...   \n",
       "25%       0.000000    16.000000     0.200000   109.000000     3.000000  ...   \n",
       "50%       1.000000    32.000000     0.500000   141.000000     4.000000  ...   \n",
       "75%       1.000000    48.000000     0.800000   170.000000     7.000000  ...   \n",
       "max       1.000000    64.000000     1.000000   200.000000     8.000000  ...   \n",
       "\n",
       "         px_height     px_width          ram         sc_h         sc_w  \\\n",
       "count  2000.000000  2000.000000  2000.000000  2000.000000  2000.000000   \n",
       "mean    645.108000  1251.515500  2124.213000    12.306500     5.767000   \n",
       "std     443.780811   432.199447  1084.732044     4.213245     4.356398   \n",
       "min       0.000000   500.000000   256.000000     5.000000     0.000000   \n",
       "25%     282.750000   874.750000  1207.500000     9.000000     2.000000   \n",
       "50%     564.000000  1247.000000  2146.500000    12.000000     5.000000   \n",
       "75%     947.250000  1633.000000  3064.500000    16.000000     9.000000   \n",
       "max    1960.000000  1998.000000  3998.000000    19.000000    18.000000   \n",
       "\n",
       "         talk_time      three_g  touch_screen         wifi  price_range  \n",
       "count  2000.000000  2000.000000   2000.000000  2000.000000  2000.000000  \n",
       "mean     11.011000     0.761500      0.503000     0.507000     1.500000  \n",
       "std       5.463955     0.426273      0.500116     0.500076     1.118314  \n",
       "min       2.000000     0.000000      0.000000     0.000000     0.000000  \n",
       "25%       6.000000     1.000000      0.000000     0.000000     0.750000  \n",
       "50%      11.000000     1.000000      1.000000     1.000000     1.500000  \n",
       "75%      16.000000     1.000000      1.000000     1.000000     2.250000  \n",
       "max      20.000000     1.000000      1.000000     1.000000     3.000000  \n",
       "\n",
       "[8 rows x 21 columns]"
      ]
     },
     "execution_count": 3,
     "metadata": {},
     "output_type": "execute_result"
    }
   ],
   "source": [
    "data.describe()"
   ]
  },
  {
   "cell_type": "code",
   "execution_count": 4,
   "id": "8ea4258a",
   "metadata": {
    "execution": {
     "iopub.execute_input": "2022-12-24T16:53:50.626451Z",
     "iopub.status.busy": "2022-12-24T16:53:50.626020Z",
     "iopub.status.idle": "2022-12-24T16:53:50.636365Z",
     "shell.execute_reply": "2022-12-24T16:53:50.635340Z"
    },
    "papermill": {
     "duration": 0.018897,
     "end_time": "2022-12-24T16:53:50.638828",
     "exception": false,
     "start_time": "2022-12-24T16:53:50.619931",
     "status": "completed"
    },
    "tags": []
   },
   "outputs": [
    {
     "data": {
      "text/plain": [
       "battery_power    0\n",
       "blue             0\n",
       "clock_speed      0\n",
       "dual_sim         0\n",
       "fc               0\n",
       "four_g           0\n",
       "int_memory       0\n",
       "m_dep            0\n",
       "mobile_wt        0\n",
       "n_cores          0\n",
       "pc               0\n",
       "px_height        0\n",
       "px_width         0\n",
       "ram              0\n",
       "sc_h             0\n",
       "sc_w             0\n",
       "talk_time        0\n",
       "three_g          0\n",
       "touch_screen     0\n",
       "wifi             0\n",
       "dtype: int64"
      ]
     },
     "execution_count": 4,
     "metadata": {},
     "output_type": "execute_result"
    }
   ],
   "source": [
    "# No null values present as well as everything is in numerical format\n",
    "features.isnull().sum()"
   ]
  },
  {
   "cell_type": "code",
   "execution_count": 5,
   "id": "4be5adeb",
   "metadata": {
    "execution": {
     "iopub.execute_input": "2022-12-24T16:53:50.651044Z",
     "iopub.status.busy": "2022-12-24T16:53:50.650622Z",
     "iopub.status.idle": "2022-12-24T16:53:50.665499Z",
     "shell.execute_reply": "2022-12-24T16:53:50.664525Z"
    },
    "papermill": {
     "duration": 0.024613,
     "end_time": "2022-12-24T16:53:50.668514",
     "exception": false,
     "start_time": "2022-12-24T16:53:50.643901",
     "status": "completed"
    },
    "tags": []
   },
   "outputs": [
    {
     "name": "stdout",
     "output_type": "stream",
     "text": [
      "Categorical Features\n",
      "['blue', 'dual_sim', 'four_g', 'three_g', 'touch_screen', 'wifi']\n",
      "Numerical Features\n",
      "['battery_power', 'clock_speed', 'fc', 'int_memory', 'm_dep', 'mobile_wt', 'n_cores', 'pc', 'px_height', 'px_width', 'ram', 'sc_h', 'sc_w', 'talk_time']\n"
     ]
    }
   ],
   "source": [
    "# Find out the categorical and numerical features based on number of labels\n",
    "\n",
    "cat_cols = [col for col in features.columns if features[col].nunique() < 3]\n",
    "num_cols = [col for col in features.columns if col not in cat_cols]\n",
    "print(f'Categorical Features\\n{cat_cols}\\nNumerical Features\\n{num_cols}')"
   ]
  },
  {
   "cell_type": "markdown",
   "id": "409eb41b",
   "metadata": {
    "papermill": {
     "duration": 0.005082,
     "end_time": "2022-12-24T16:53:50.681734",
     "exception": false,
     "start_time": "2022-12-24T16:53:50.676652",
     "status": "completed"
    },
    "tags": []
   },
   "source": [
    "## We don't require that much preprocessing"
   ]
  },
  {
   "cell_type": "code",
   "execution_count": 6,
   "id": "3e7ca6e1",
   "metadata": {
    "execution": {
     "iopub.execute_input": "2022-12-24T16:53:50.694872Z",
     "iopub.status.busy": "2022-12-24T16:53:50.694100Z",
     "iopub.status.idle": "2022-12-24T16:53:53.646140Z",
     "shell.execute_reply": "2022-12-24T16:53:53.645041Z"
    },
    "id": "yU2H9yzKi7eO",
    "papermill": {
     "duration": 2.961098,
     "end_time": "2022-12-24T16:53:53.648871",
     "exception": false,
     "start_time": "2022-12-24T16:53:50.687773",
     "status": "completed"
    },
    "tags": []
   },
   "outputs": [],
   "source": [
    "# Estimators\n",
    "rf = RandomForestClassifier()\n",
    "dt = DecisionTreeClassifier()\n",
    "svc = SVC()\n",
    "gnb = GaussianNB()\n",
    "knn = KNeighborsClassifier()\n",
    "\n",
    "estimator = {'K Neighbors Classification':knn,'Gaussian Naive Bayes':gnb,'Support Vector Classification':svc,'Random Forest Classification':rf,'Decision Tree Classification':dt}\n",
    "model_with_accuracy = {} # Creating dictionary calculating cross valiadation accuracy with models\n",
    "\n",
    "for i in estimator.keys():\n",
    "  model_with_accuracy[i] = mean(cross_val_score(estimator[i],features,target,cv=SKfolds,scoring='accuracy'))\n",
    "  \n"
   ]
  },
  {
   "cell_type": "code",
   "execution_count": 7,
   "id": "01bb747c",
   "metadata": {
    "execution": {
     "iopub.execute_input": "2022-12-24T16:53:53.661522Z",
     "iopub.status.busy": "2022-12-24T16:53:53.660703Z",
     "iopub.status.idle": "2022-12-24T16:53:53.667092Z",
     "shell.execute_reply": "2022-12-24T16:53:53.666322Z"
    },
    "id": "mOPbHX3ZnIiO",
    "outputId": "c9cd3c72-1387-4546-d892-35cbea5a12f8",
    "papermill": {
     "duration": 0.015292,
     "end_time": "2022-12-24T16:53:53.669434",
     "exception": false,
     "start_time": "2022-12-24T16:53:53.654142",
     "status": "completed"
    },
    "tags": []
   },
   "outputs": [
    {
     "data": {
      "text/plain": [
       "{'K Neighbors Classification': 0.9195,\n",
       " 'Gaussian Naive Bayes': 0.8089999999999999,\n",
       " 'Support Vector Classification': 0.947,\n",
       " 'Random Forest Classification': 0.884,\n",
       " 'Decision Tree Classification': 0.8170000000000001}"
      ]
     },
     "execution_count": 7,
     "metadata": {},
     "output_type": "execute_result"
    }
   ],
   "source": [
    "model_with_accuracy"
   ]
  },
  {
   "cell_type": "markdown",
   "id": "721abb61",
   "metadata": {
    "papermill": {
     "duration": 0.004837,
     "end_time": "2022-12-24T16:53:53.679468",
     "exception": false,
     "start_time": "2022-12-24T16:53:53.674631",
     "status": "completed"
    },
    "tags": []
   },
   "source": [
    "## Support Vector Machine wins"
   ]
  },
  {
   "cell_type": "code",
   "execution_count": 8,
   "id": "a479576d",
   "metadata": {
    "execution": {
     "iopub.execute_input": "2022-12-24T16:53:53.691581Z",
     "iopub.status.busy": "2022-12-24T16:53:53.690968Z",
     "iopub.status.idle": "2022-12-24T16:56:03.879560Z",
     "shell.execute_reply": "2022-12-24T16:56:03.878418Z"
    },
    "id": "GEvvKqD8PiKI",
    "papermill": {
     "duration": 130.202197,
     "end_time": "2022-12-24T16:56:03.886737",
     "exception": false,
     "start_time": "2022-12-24T16:53:53.684540",
     "status": "completed"
    },
    "tags": []
   },
   "outputs": [
    {
     "data": {
      "text/html": [
       "<style>#sk-container-id-1 {color: black;background-color: white;}#sk-container-id-1 pre{padding: 0;}#sk-container-id-1 div.sk-toggleable {background-color: white;}#sk-container-id-1 label.sk-toggleable__label {cursor: pointer;display: block;width: 100%;margin-bottom: 0;padding: 0.3em;box-sizing: border-box;text-align: center;}#sk-container-id-1 label.sk-toggleable__label-arrow:before {content: \"▸\";float: left;margin-right: 0.25em;color: #696969;}#sk-container-id-1 label.sk-toggleable__label-arrow:hover:before {color: black;}#sk-container-id-1 div.sk-estimator:hover label.sk-toggleable__label-arrow:before {color: black;}#sk-container-id-1 div.sk-toggleable__content {max-height: 0;max-width: 0;overflow: hidden;text-align: left;background-color: #f0f8ff;}#sk-container-id-1 div.sk-toggleable__content pre {margin: 0.2em;color: black;border-radius: 0.25em;background-color: #f0f8ff;}#sk-container-id-1 input.sk-toggleable__control:checked~div.sk-toggleable__content {max-height: 200px;max-width: 100%;overflow: auto;}#sk-container-id-1 input.sk-toggleable__control:checked~label.sk-toggleable__label-arrow:before {content: \"▾\";}#sk-container-id-1 div.sk-estimator input.sk-toggleable__control:checked~label.sk-toggleable__label {background-color: #d4ebff;}#sk-container-id-1 div.sk-label input.sk-toggleable__control:checked~label.sk-toggleable__label {background-color: #d4ebff;}#sk-container-id-1 input.sk-hidden--visually {border: 0;clip: rect(1px 1px 1px 1px);clip: rect(1px, 1px, 1px, 1px);height: 1px;margin: -1px;overflow: hidden;padding: 0;position: absolute;width: 1px;}#sk-container-id-1 div.sk-estimator {font-family: monospace;background-color: #f0f8ff;border: 1px dotted black;border-radius: 0.25em;box-sizing: border-box;margin-bottom: 0.5em;}#sk-container-id-1 div.sk-estimator:hover {background-color: #d4ebff;}#sk-container-id-1 div.sk-parallel-item::after {content: \"\";width: 100%;border-bottom: 1px solid gray;flex-grow: 1;}#sk-container-id-1 div.sk-label:hover label.sk-toggleable__label {background-color: #d4ebff;}#sk-container-id-1 div.sk-serial::before {content: \"\";position: absolute;border-left: 1px solid gray;box-sizing: border-box;top: 0;bottom: 0;left: 50%;z-index: 0;}#sk-container-id-1 div.sk-serial {display: flex;flex-direction: column;align-items: center;background-color: white;padding-right: 0.2em;padding-left: 0.2em;position: relative;}#sk-container-id-1 div.sk-item {position: relative;z-index: 1;}#sk-container-id-1 div.sk-parallel {display: flex;align-items: stretch;justify-content: center;background-color: white;position: relative;}#sk-container-id-1 div.sk-item::before, #sk-container-id-1 div.sk-parallel-item::before {content: \"\";position: absolute;border-left: 1px solid gray;box-sizing: border-box;top: 0;bottom: 0;left: 50%;z-index: -1;}#sk-container-id-1 div.sk-parallel-item {display: flex;flex-direction: column;z-index: 1;position: relative;background-color: white;}#sk-container-id-1 div.sk-parallel-item:first-child::after {align-self: flex-end;width: 50%;}#sk-container-id-1 div.sk-parallel-item:last-child::after {align-self: flex-start;width: 50%;}#sk-container-id-1 div.sk-parallel-item:only-child::after {width: 0;}#sk-container-id-1 div.sk-dashed-wrapped {border: 1px dashed gray;margin: 0 0.4em 0.5em 0.4em;box-sizing: border-box;padding-bottom: 0.4em;background-color: white;}#sk-container-id-1 div.sk-label label {font-family: monospace;font-weight: bold;display: inline-block;line-height: 1.2em;}#sk-container-id-1 div.sk-label-container {text-align: center;}#sk-container-id-1 div.sk-container {/* jupyter's `normalize.less` sets `[hidden] { display: none; }` but bootstrap.min.css set `[hidden] { display: none !important; }` so we also need the `!important` here to be able to override the default hidden behavior on the sphinx rendered scikit-learn.org. See: https://github.com/scikit-learn/scikit-learn/issues/21755 */display: inline-block !important;position: relative;}#sk-container-id-1 div.sk-text-repr-fallback {display: none;}</style><div id=\"sk-container-id-1\" class=\"sk-top-container\"><div class=\"sk-text-repr-fallback\"><pre>HalvingRandomSearchCV(cv=StratifiedKFold(n_splits=5, random_state=None, shuffle=False),\n",
       "                      estimator=SVC(),\n",
       "                      param_distributions={&#x27;C&#x27;: [0.1, 1, 10, 100, 1000],\n",
       "                                           &#x27;gamma&#x27;: [1, 0.1, 0.01, 0.001,\n",
       "                                                     0.0001],\n",
       "                                           &#x27;kernel&#x27;: [&#x27;linear&#x27;, &#x27;sigmoid&#x27;,\n",
       "                                                      &#x27;rbf&#x27;]},\n",
       "                      scoring=&#x27;accuracy&#x27;)</pre><b>In a Jupyter environment, please rerun this cell to show the HTML representation or trust the notebook. <br />On GitHub, the HTML representation is unable to render, please try loading this page with nbviewer.org.</b></div><div class=\"sk-container\" hidden><div class=\"sk-item sk-dashed-wrapped\"><div class=\"sk-label-container\"><div class=\"sk-label sk-toggleable\"><input class=\"sk-toggleable__control sk-hidden--visually\" id=\"sk-estimator-id-1\" type=\"checkbox\" ><label for=\"sk-estimator-id-1\" class=\"sk-toggleable__label sk-toggleable__label-arrow\">HalvingRandomSearchCV</label><div class=\"sk-toggleable__content\"><pre>HalvingRandomSearchCV(cv=StratifiedKFold(n_splits=5, random_state=None, shuffle=False),\n",
       "                      estimator=SVC(),\n",
       "                      param_distributions={&#x27;C&#x27;: [0.1, 1, 10, 100, 1000],\n",
       "                                           &#x27;gamma&#x27;: [1, 0.1, 0.01, 0.001,\n",
       "                                                     0.0001],\n",
       "                                           &#x27;kernel&#x27;: [&#x27;linear&#x27;, &#x27;sigmoid&#x27;,\n",
       "                                                      &#x27;rbf&#x27;]},\n",
       "                      scoring=&#x27;accuracy&#x27;)</pre></div></div></div><div class=\"sk-parallel\"><div class=\"sk-parallel-item\"><div class=\"sk-item\"><div class=\"sk-label-container\"><div class=\"sk-label sk-toggleable\"><input class=\"sk-toggleable__control sk-hidden--visually\" id=\"sk-estimator-id-2\" type=\"checkbox\" ><label for=\"sk-estimator-id-2\" class=\"sk-toggleable__label sk-toggleable__label-arrow\">estimator: SVC</label><div class=\"sk-toggleable__content\"><pre>SVC()</pre></div></div></div><div class=\"sk-serial\"><div class=\"sk-item\"><div class=\"sk-estimator sk-toggleable\"><input class=\"sk-toggleable__control sk-hidden--visually\" id=\"sk-estimator-id-3\" type=\"checkbox\" ><label for=\"sk-estimator-id-3\" class=\"sk-toggleable__label sk-toggleable__label-arrow\">SVC</label><div class=\"sk-toggleable__content\"><pre>SVC()</pre></div></div></div></div></div></div></div></div></div></div>"
      ],
      "text/plain": [
       "HalvingRandomSearchCV(cv=StratifiedKFold(n_splits=5, random_state=None, shuffle=False),\n",
       "                      estimator=SVC(),\n",
       "                      param_distributions={'C': [0.1, 1, 10, 100, 1000],\n",
       "                                           'gamma': [1, 0.1, 0.01, 0.001,\n",
       "                                                     0.0001],\n",
       "                                           'kernel': ['linear', 'sigmoid',\n",
       "                                                      'rbf']},\n",
       "                      scoring='accuracy')"
      ]
     },
     "execution_count": 8,
     "metadata": {},
     "output_type": "execute_result"
    }
   ],
   "source": [
    "## Hyperparameter tuning of Support Vector Classification\n",
    "params = {'C':[0.1, 1, 10, 100, 1000],'gamma': [1, 0.1, 0.01, 0.001, 0.0001],'kernel': ['linear','sigmoid','rbf']}\n",
    "tuning = HalvingRandomSearchCV(svc,params,scoring='accuracy',cv=SKfolds)\n",
    "tuning.fit(features,target)"
   ]
  },
  {
   "cell_type": "code",
   "execution_count": 9,
   "id": "83ed77b9",
   "metadata": {
    "execution": {
     "iopub.execute_input": "2022-12-24T16:56:03.900497Z",
     "iopub.status.busy": "2022-12-24T16:56:03.900109Z",
     "iopub.status.idle": "2022-12-24T16:56:03.906869Z",
     "shell.execute_reply": "2022-12-24T16:56:03.905746Z"
    },
    "id": "vI2VwpR15NK9",
    "papermill": {
     "duration": 0.017187,
     "end_time": "2022-12-24T16:56:03.909192",
     "exception": false,
     "start_time": "2022-12-24T16:56:03.892005",
     "status": "completed"
    },
    "tags": []
   },
   "outputs": [
    {
     "data": {
      "text/plain": [
       "0.9768518518518519"
      ]
     },
     "execution_count": 9,
     "metadata": {},
     "output_type": "execute_result"
    }
   ],
   "source": [
    "tuning.best_score_ # Final score achieved"
   ]
  },
  {
   "cell_type": "code",
   "execution_count": 10,
   "id": "417cedf9",
   "metadata": {
    "execution": {
     "iopub.execute_input": "2022-12-24T16:56:03.922078Z",
     "iopub.status.busy": "2022-12-24T16:56:03.921638Z",
     "iopub.status.idle": "2022-12-24T16:56:03.926392Z",
     "shell.execute_reply": "2022-12-24T16:56:03.925357Z"
    },
    "id": "Q0vk1K9cV1Fs",
    "papermill": {
     "duration": 0.013836,
     "end_time": "2022-12-24T16:56:03.928774",
     "exception": false,
     "start_time": "2022-12-24T16:56:03.914938",
     "status": "completed"
    },
    "tags": []
   },
   "outputs": [],
   "source": [
    "final_estimator = tuning.best_estimator_"
   ]
  },
  {
   "cell_type": "code",
   "execution_count": 11,
   "id": "b4cf2931",
   "metadata": {
    "execution": {
     "iopub.execute_input": "2022-12-24T16:56:03.942682Z",
     "iopub.status.busy": "2022-12-24T16:56:03.941964Z",
     "iopub.status.idle": "2022-12-24T16:56:03.948392Z",
     "shell.execute_reply": "2022-12-24T16:56:03.947254Z"
    },
    "id": "60rBR4ucWLqF",
    "outputId": "75b9a382-a7a5-4024-e0c8-c21e4088b586",
    "papermill": {
     "duration": 0.015888,
     "end_time": "2022-12-24T16:56:03.950603",
     "exception": false,
     "start_time": "2022-12-24T16:56:03.934715",
     "status": "completed"
    },
    "tags": []
   },
   "outputs": [],
   "source": [
    "# Save the model\n",
    "filename = 'final_estimator.sav'\n",
    "pickle.dump(final_estimator, open(filename, 'wb'))"
   ]
  },
  {
   "cell_type": "code",
   "execution_count": 12,
   "id": "b23fd527",
   "metadata": {
    "execution": {
     "iopub.execute_input": "2022-12-24T16:56:03.963139Z",
     "iopub.status.busy": "2022-12-24T16:56:03.962733Z",
     "iopub.status.idle": "2022-12-24T16:56:03.967888Z",
     "shell.execute_reply": "2022-12-24T16:56:03.966932Z"
    },
    "papermill": {
     "duration": 0.013968,
     "end_time": "2022-12-24T16:56:03.970101",
     "exception": false,
     "start_time": "2022-12-24T16:56:03.956133",
     "status": "completed"
    },
    "tags": []
   },
   "outputs": [],
   "source": [
    "# Load the model\n",
    "estimator = pickle.load(open(filename,'rb'))"
   ]
  },
  {
   "cell_type": "code",
   "execution_count": 13,
   "id": "6f73b678",
   "metadata": {
    "execution": {
     "iopub.execute_input": "2022-12-24T16:56:03.982679Z",
     "iopub.status.busy": "2022-12-24T16:56:03.982306Z",
     "iopub.status.idle": "2022-12-24T16:56:04.011789Z",
     "shell.execute_reply": "2022-12-24T16:56:04.010515Z"
    },
    "papermill": {
     "duration": 0.039158,
     "end_time": "2022-12-24T16:56:04.014807",
     "exception": false,
     "start_time": "2022-12-24T16:56:03.975649",
     "status": "completed"
    },
    "tags": []
   },
   "outputs": [],
   "source": [
    "test_data = pd.read_csv('test.csv')\n",
    "y_pred = estimator.predict(test_data.drop(['id'],axis=1)) # Predict the test data"
   ]
  },
  {
   "cell_type": "code",
   "execution_count": null,
   "id": "72112cf9",
   "metadata": {},
   "outputs": [],
   "source": []
  }
 ],
 "metadata": {
  "kernelspec": {
   "display_name": "Python 3 (ipykernel)",
   "language": "python",
   "name": "python3"
  },
  "language_info": {
   "codemirror_mode": {
    "name": "ipython",
    "version": 3
   },
   "file_extension": ".py",
   "mimetype": "text/x-python",
   "name": "python",
   "nbconvert_exporter": "python",
   "pygments_lexer": "ipython3",
   "version": "3.10.6"
  },
  "papermill": {
   "default_parameters": {},
   "duration": 144.138007,
   "end_time": "2022-12-24T16:56:04.844924",
   "environment_variables": {},
   "exception": null,
   "input_path": "__notebook__.ipynb",
   "output_path": "__notebook__.ipynb",
   "parameters": {},
   "start_time": "2022-12-24T16:53:40.706917",
   "version": "2.3.4"
  }
 },
 "nbformat": 4,
 "nbformat_minor": 5
}
