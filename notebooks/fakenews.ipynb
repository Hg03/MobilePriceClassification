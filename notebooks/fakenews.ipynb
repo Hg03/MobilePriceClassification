{
 "cells": [
  {
   "cell_type": "markdown",
   "id": "48b63dac",
   "metadata": {},
   "source": [
    "# Requirements.txt\n",
    "\n",
    "1. streamlit\n",
    "2. python\n",
    "3. sklearn\n",
    "4. spacy\n",
    "5. pandas"
   ]
  },
  {
   "cell_type": "code",
   "execution_count": 1,
   "id": "dd06db53",
   "metadata": {},
   "outputs": [],
   "source": [
    "import spacy\n",
    "from sklearn.model_selection import train_test_split\n",
    "from sklearn.preprocessing import FunctionTransformer\n",
    "from sklearn.naive_bayes import MultinomialNB, GaussianNB\n",
    "from sklearn.pipeline import make_pipeline\n",
    "from sklearn.metrics import accuracy_score\n",
    "from sklearn.feature_extraction.text import CountVectorizer\n",
    "import pickle\n",
    "import pandas as pd\n",
    "\n",
    "# Reading data\n",
    "df = pd.read_csv('../data/fakenewsclassification/FakeNewsNet.csv')\n",
    "df = df[['title','real']]\n",
    "x_train, x_test, y_train, y_test = train_test_split(df.title,df.real,test_size = 0.2)\n",
    "\n",
    "\n",
    "def preprocess_text(feature):\n",
    "#   Initializing spacy pipeline\n",
    "    nlp = spacy.load('en_core_web_sm') \n",
    "    lemmatized = []\n",
    "    final = []\n",
    "    for i in range(len(feature)):\n",
    "        lemmatized.append([token.lemma_ for token in nlp(feature.iloc[i].lower()) if token.is_stop == False and token.text.isalpha() == True])\n",
    "        \n",
    "    for i in range(len(lemmatized)):\n",
    "        final.append(\" \".join(lemmatized[i]))\n",
    "        \n",
    "    return final\n",
    "\n",
    "preprocess = FunctionTransformer(preprocess_text)\n",
    "pipe = make_pipeline(preprocess, CountVectorizer(), MultinomialNB())\n",
    "pipe.fit(x_train,y_train)\n",
    "y_pred = pipe.predict(x_test)\n",
    "\n",
    "\n",
    "pickle.dump(pipe, open('../fake_news_estimator.sav','wb'))"
   ]
  },
  {
   "cell_type": "code",
   "execution_count": 2,
   "id": "66d1fe99",
   "metadata": {},
   "outputs": [],
   "source": [
    "#pipe.predict(pd.Series(['barack obama spanks mia khalifa and loves her too much']))[0]"
   ]
  },
  {
   "cell_type": "code",
   "execution_count": null,
   "id": "d8371e4b",
   "metadata": {},
   "outputs": [],
   "source": []
  }
 ],
 "metadata": {
  "kernelspec": {
   "display_name": "Python 3 (ipykernel)",
   "language": "python",
   "name": "python3"
  },
  "language_info": {
   "codemirror_mode": {
    "name": "ipython",
    "version": 3
   },
   "file_extension": ".py",
   "mimetype": "text/x-python",
   "name": "python",
   "nbconvert_exporter": "python",
   "pygments_lexer": "ipython3",
   "version": "3.10.6"
  }
 },
 "nbformat": 4,
 "nbformat_minor": 5
}
