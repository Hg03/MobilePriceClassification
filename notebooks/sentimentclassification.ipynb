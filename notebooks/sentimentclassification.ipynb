{
 "cells": [
  {
   "cell_type": "markdown",
   "id": "f06f25f9",
   "metadata": {},
   "source": [
    "[Datset Link](https://huggingface.co/datasets/ag_news)\n",
    "\n",
    "Labels :-  0 -> World, 1 -> Sports, 2 -> Business, 3 -> Sci/Tech"
   ]
  },
  {
   "cell_type": "code",
   "execution_count": 1,
   "id": "b22abb9b",
   "metadata": {},
   "outputs": [
    {
     "name": "stderr",
     "output_type": "stream",
     "text": [
      "[nltk_data] Downloading package stopwords to /home/harish/nltk_data...\n",
      "[nltk_data]   Package stopwords is already up-to-date!\n",
      "[nltk_data] Downloading package wordnet to /home/harish/nltk_data...\n",
      "[nltk_data]   Package wordnet is already up-to-date!\n",
      "[nltk_data] Downloading package omw-1.4 to /home/harish/nltk_data...\n",
      "[nltk_data]   Package omw-1.4 is already up-to-date!\n"
     ]
    },
    {
     "data": {
      "text/plain": [
       "True"
      ]
     },
     "execution_count": 1,
     "metadata": {},
     "output_type": "execute_result"
    }
   ],
   "source": [
    "import pandas as pd\n",
    "import numpy as np\n",
    "from sklearn.experimental import enable_halving_search_cv\n",
    "from sklearn import model_selection, preprocessing, naive_bayes, pipeline, feature_extraction\n",
    "from nltk import stem, corpus, tokenize\n",
    "import re\n",
    "import nltk\n",
    "import pickle\n",
    "nltk.download('stopwords')\n",
    "nltk.download('wordnet')\n",
    "nltk.download('omw-1.4')\n",
    "\n",
    "#stopwords = stopwords.words('english')"
   ]
  },
  {
   "cell_type": "code",
   "execution_count": 2,
   "id": "ec2e098f",
   "metadata": {},
   "outputs": [],
   "source": [
    "train = pd.read_csv('../data/sentimentclassification/train.csv')\n",
    "test = pd.read_csv('../data/sentimentclassification/test.csv')\n",
    "\n",
    "# Splitting the data\n",
    "x_train, x_test, y_train, y_test = model_selection.train_test_split(train['text'],train['label'],test_size=0.3,stratify=train.label)"
   ]
  },
  {
   "cell_type": "code",
   "execution_count": 3,
   "id": "124bb231",
   "metadata": {},
   "outputs": [],
   "source": [
    "def preprocess_text1(corpus):\n",
    "    lemmatizer = stem.WordNetLemmatizer()\n",
    "    stopword = nltk.corpus.stopwords.words('english')\n",
    "    preprocessed = corpus.apply(lambda x: \" \".join([lemmatizer.lemmatize(i) for i in re.sub(\"[^a-zA-Z]\", \" \", x).split() if i not in stopword]).lower())\n",
    "    return preprocessed\n",
    "preprocess_sentiment = preprocessing.FunctionTransformer(preprocess_text1)\n",
    "pipe = pipeline.make_pipeline(preprocess_sentiment,feature_extraction.text.CountVectorizer(),naive_bayes.MultinomialNB())\n",
    "pipe.fit(x_train,y_train)\n",
    "\n",
    "pickle.dump(pipe,open('../sentimentestimator.sav','wb'))"
   ]
  }
 ],
 "metadata": {
  "kernelspec": {
   "display_name": "Python 3 (ipykernel)",
   "language": "python",
   "name": "python3"
  },
  "language_info": {
   "codemirror_mode": {
    "name": "ipython",
    "version": 3
   },
   "file_extension": ".py",
   "mimetype": "text/x-python",
   "name": "python",
   "nbconvert_exporter": "python",
   "pygments_lexer": "ipython3",
   "version": "3.10.6"
  }
 },
 "nbformat": 4,
 "nbformat_minor": 5
}
